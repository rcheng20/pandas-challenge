{
 "cells": [
  {
   "cell_type": "code",
   "execution_count": null,
   "id": "7f13d0c6",
   "metadata": {},
   "outputs": [],
   "source": [
    "# import dependacies\n",
    "import csv\n",
    "import pandas as pd\n",
    "import numpy as np\n",
    "import matplotlib.pyplot as plt\n",
    "from pathlib import Path"
   ]
  },
  {
   "cell_type": "code",
   "execution_count": null,
   "id": "76b36af6",
   "metadata": {},
   "outputs": [],
   "source": [
    "# read the files\n",
    "school_data = Path(\"pandas-challenge\", \"Resources\", \"schools_complete.csv\")\n",
    "student_data = Path(\"pandas-challenge\", \"Resources\", \"students_complete.csv\")\n",
    "schools_df = pd.read_csv(school_data)\n",
    "students_df = pd.read_csv(student_data)"
   ]
  },
  {
   "cell_type": "code",
   "execution_count": null,
   "id": "25e7147a",
   "metadata": {},
   "outputs": [],
   "source": [
    "# combining the 2 files\n",
    "school_data_complete = pd.merge(students_df, schools_df, how=\"left\", on=[\"school_name\", \"school_name\"])\n",
    "copy_school_data_complete = school_data_complete.copy()"
   ]
  },
  {
   "cell_type": "code",
   "execution_count": null,
   "id": "8e08104c",
   "metadata": {},
   "outputs": [],
   "source": [
    "# District summary\n",
    "total_schools = school_data_complete[\"school_name\"].count()  # counts how many schools there are in the district\n",
    "total_students = school_data_complete[\"student_name\"].count()  # counts how many students there are in the district\n",
    "total_budget = school_data_complete[\"budget\"].sum()  # sums up the budget per school\n",
    "avg_math = school_data_complete[\"math_score\"].mean()  # finds the avg math score\n",
    "avg_reading = school_data_complete[\"reading_score\"].mean()  # finds the avg reading score"
   ]
  },
  {
   "cell_type": "code",
   "execution_count": null,
   "id": "56de8057",
   "metadata": {},
   "outputs": [],
   "source": [
    "# passing is anything above a 60%\n",
    "math_passed = school_data_complete.loc[(school_data_complete[\"math_score\"] >= 60)]  # locates the entries that are greater than 60 in \"math_score\"\n",
    "reading_passed = school_data_complete.loc[(school_data_complete[\"reading_score\"] >= 60)]  # locates the entries that are greater than 60 in \"reading_score\"\n",
    "count_math_passed = math_passed[\"math_score\"].count()  # counts the numbers that were greater than 60\n",
    "count_reading_passed = reading_passed[\"reading_score\"].count()\n",
    "per_math_passed = (count_math_passed/total_students)*100  # calculates the percentage\n",
    "per_reading_passed = (count_reading_passed/total_students)*100"
   ]
  },
  {
   "cell_type": "code",
   "execution_count": null,
   "id": "f584c1da",
   "metadata": {},
   "outputs": [],
   "source": [
    "# calculating overall passing %\n",
    "overall = (per_math_passed + per_reading_passed)/2  # averages out the passing rates"
   ]
  },
  {
   "cell_type": "code",
   "execution_count": null,
   "id": "d4a160df",
   "metadata": {},
   "outputs": [],
   "source": [
    "# visualizes the data that was manipulated above\n",
    "district_summary_df = pd.DataFrame({\"Total Schools\" : [total_schools],\n",
    "                   \"Total Students\" : [total_students],\n",
    "                   \"Total Budget\" : [total_budget],\n",
    "                   \"Average Math Score\" : [avg_math],\n",
    "                   \"Average Reading Score\" : [avg_reading],\n",
    "                    \"% Passing Math\" : [per_math_passed],\n",
    "                   \"% Passing Reading\" : [per_reading_passed],\n",
    "                   \"% Overall Passing\" : [overall]\n",
    "                  })                                            \n",
    "                                   \n",
    "district_summary_df[\"Total Budget\"] = district_summary_df[\"Total Budget\"].map(\"${}:,.2f}\".format)\n",
    "district_summary_df[[\"Total Schools\",\n",
    "                    \"Total Students\",\n",
    "                    \"Total Budget\",\n",
    "                    \"Average Math Score\",\n",
    "                    \"Average Reading Score\",\n",
    "                    \"% Passing Math\",\n",
    "                    \"% Passing Reading\",\n",
    "                    \"% Overall Passing\"]]"
   ]
  },
  {
   "cell_type": "code",
   "execution_count": null,
   "id": "8e4c1b03",
   "metadata": {},
   "outputs": [],
   "source": [
    "# summary of each school\n",
    "group_school = school_data_complete.groupby([\"school_name\"])\n",
    "type_school = grouped_school[\"type\"].first()\n",
    "total_students = grouped_school[\"Student ID\"].count()\n",
    "school_budget_total = grouped_school[\"budget\"].first()\n",
    "perstudentbudget = school_budget_total/total_students\n",
    "avg_math_score = grouped_school[\"math_score\"].mean()\n",
    "avg_reading_score = grouped_school[\"reading_score\"].mean()\n",
    "math_passed = school_data_complete[school_data_complete[\"math_score\"] >= 60].groupby([\"school_name\"])[\"math_score\"].count()\n",
    "reading_passed = school_data_complete[school_data_complete[\"reading_score\"] >= 60].groupby([\"school_name\"])[\"reading_score\"].count()\n",
    "per_math_passed = math_passed/total_students * 100\n",
    "per_reading_passed = reading_passed/total_students * 100\n",
    "overall = (per_math_passed + per_reading_passed)/2"
   ]
  },
  {
   "cell_type": "code",
   "execution_count": null,
   "id": "728e0a5a",
   "metadata": {},
   "outputs": [],
   "source": [
    "# visualizes the data that was manipulated above\n",
    "summary_school = pd.DataFrame({\"School Type\" : type_school,\n",
    "                              \"Total Students\" : total_students,\n",
    "                              \"Per Student Budget\" : perstudentbudget,\n",
    "                              \"Avg Math Score\" : avg_math_score,\n",
    "                              \"Avg Reading Score\" : avg_reading_score,\n",
    "                              \"% Passing Math\" : per_math_passed,\n",
    "                              \"% Passing Reading\" : per_reading_passed,\n",
    "                              \"% Overall Passing\" : overall})\n",
    "summary_school = summary_school.sort_values([\"% Overall Passing\"], ascending=False)\n",
    "summary_school[\"Total School Budget\"] = summary_school[\"Total School Budget\"].map(\"${:,.2f}\".format)\n",
    "summary_school[\"Per Student Budget\"] = summary_school[\"Per Student Budget\"].map(\"${:,.2f}\".format)\n",
    "\n",
    "summary_school[[\"School Type\",\n",
    "      \"Total Students\",\n",
    "      \"Total School Budget\",\n",
    "      \"Per Student Budget\",\n",
    "      \"Average Math Score\",\n",
    "      \"Average Reading Score\",\n",
    "      \"% Passing Math\",\n",
    "      \"% Passing Reading\",\n",
    "      \"% Overall Passing\"]].head()"
   ]
  },
  {
   "cell_type": "code",
   "execution_count": null,
   "id": "18829f47",
   "metadata": {},
   "outputs": [],
   "source": [
    "# sort to display the five worst-performing schools\n",
    "summary_school = summary_school.sort_values([\"% Overall Passing\"], ascending=True)\n",
    "\n",
    "summary_school[[\"School Type\",\n",
    "      \"Total Students\",\n",
    "      \"Total School Budget\",\n",
    "      \"Per Student Budget\",\n",
    "      \"Average Math Score\",\n",
    "      \"Average Reading Score\",\n",
    "      \"% Passing Math\",\n",
    "      \"% Passing Reading\",\n",
    "      \"% Overall Passing\"]].head()"
   ]
  },
  {
   "cell_type": "code",
   "execution_count": null,
   "id": "bf3aee72",
   "metadata": {},
   "outputs": [],
   "source": [
    "# math scores by grade\n",
    "grade9m = school_data_complete.loc[school_data_complete[\"grade\"] == \"9th\"].groupby([\"school_name\"])[\"math_score\"].mean()\n",
    "grade10m = school_data_complete.loc[school_data_complete[\"grade\"] == \"10th\"].groupby([\"school_name\"])[\"math_score\"].mean()\n",
    "grade11m = school_data_complete.loc[school_data_complete[\"grade\"] == \"11th\"].groupby([\"school_name\"])[\"math_score\"].mean()\n",
    "grade12m = school_data_complete.loc[school_data_complete[\"grade\"] == \"12th\"].groupby([\"school_name\"])[\"math_score\"].mean()\n",
    "\n",
    "# creating the summary\n",
    "grade_summary_math = pd.DataFrame({\"9th\" : grade9m,\n",
    "                             \"10th\" : grade10m,\n",
    "                             \"11th\" : grade11m,\n",
    "                             \"12th\" : grade12m})\n",
    "grade_summary_math[[\"9th\", \"10th\", \"11th\", \"12th\"]]"
   ]
  },
  {
   "cell_type": "code",
   "execution_count": null,
   "id": "af9afacf",
   "metadata": {},
   "outputs": [],
   "source": [
    "grade9r = school_data_complete.loc[school_data_complete[\"grade\"] == \"9th\"].groupby([\"school_name\"])[\"reading_score\"].mean()\n",
    "grade10r = school_data_complete.loc[school_data_complete[\"grade\"] == \"10th\"].groupby([\"school_name\"])[\"reading_score\"].mean()\n",
    "grade11r = school_data_complete.loc[school_data_complete[\"grade\"] == \"11th\"].groupby([\"school_name\"])[\"reading_score\"].mean()\n",
    "grade12r = school_data_complete.loc[school_data_complete[\"grade\"] == \"12th\"].groupby([\"school_name\"])[\"reading_score\"].mean()\n",
    "\n",
    "# creating the summary\n",
    "grade_summary_reading = pd.DataFrame({\"9th\" : grade9r,\n",
    "                             \"10th\" : grade10r,\n",
    "                             \"11th\" : grade11r,\n",
    "                             \"12th\" : grade12r})\n",
    "grade_summary_reading[[\"9th\", \"10th\", \"11th\", \"12th\"]]"
   ]
  },
  {
   "cell_type": "code",
   "execution_count": null,
   "id": "6c2f9021",
   "metadata": {},
   "outputs": [],
   "source": [
    "# sorting data into different bins\n",
    "spending_bins = [0, 585, 615, 645, 675]\n",
    "group_names = [\"<$585\", \"$585-615\", \"$615-645\", \"$645-675\"]"
   ]
  },
  {
   "cell_type": "code",
   "execution_count": null,
   "id": "3f7b0d50",
   "metadata": {},
   "outputs": [],
   "source": [
    "# visualize the data by showing the performance break down based on avg spending ranges\n",
    "summary_school[\"Per Student Budget\"] = summary_school[\"Per Student Budget\"].apply(lambda x: x-replace('$', '').replace(',', '')).astype('float')\n",
    "summary_school = summary_school.reset_index()\n",
    "summary_school[\"Spending Ranges (Per Student)\"] = pd.cut(summary_school[\"Per Student Budget\"], spending_bins, labels=group_names)\n",
    "group_spend = summary_school.groupby([\"Spending Ranges (Per Student)\"])\n",
    "spend_summary = group_spend.mean()\n",
    "spend_summary[[\"Average Math Score\",\n",
    "              \"Average Reading Score\",\n",
    "              \"% Passing Math\",\n",
    "              \"% Passing Reading\",\n",
    "              \"% Overall Passing\"]]"
   ]
  },
  {
   "cell_type": "code",
   "execution_count": null,
   "id": "c7089a38",
   "metadata": {},
   "outputs": [],
   "source": [
    "# sorting data into different bins\n",
    "size_bins = [0, 1000, 2000, 5000]\n",
    "group_names = [\"Small (<1000)\", \"Medium (1000-2000)\", \"Large (2000-5000)\"]"
   ]
  },
  {
   "cell_type": "code",
   "execution_count": null,
   "id": "fe105625",
   "metadata": {},
   "outputs": [],
   "source": [
    "# visualize the data by showing the performance based on school size\n",
    "summary_school = summary_school.reset_index()\n",
    "summary_school[\"School Size\"] = pd.cut(summary_school[\"Total Students\"], size_bins, labels=group_names)\n",
    "group_size = summary_school.groupby([\"School Size\"])\n",
    "size_summary = group_size.mean()\n",
    "size_summary[[\"Average Math Score\",\n",
    "              \"Average Reading Score\",\n",
    "              \"% Passing Math\",\n",
    "              \"% Passing Reading\",\n",
    "              \"% Overall Passing\"]]"
   ]
  },
  {
   "cell_type": "code",
   "execution_count": null,
   "id": "733f4f37",
   "metadata": {},
   "outputs": [],
   "source": [
    "# visualize the data by showing the performance based on charter vs district (type)\n",
    "summary_school = summary_school.reset_index()\n",
    "group_type = summary_school.groupby([\"School Type\"])\n",
    "type_summary = group_type.mean()\n",
    "type_summary[[\"Average Math Score\",\n",
    "              \"Average Reading Score\",\n",
    "              \"% Passing Math\",\n",
    "              \"% Passing Reading\",\n",
    "              \"% Overall Passing\"]]"
   ]
  }
 ],
 "metadata": {
  "kernelspec": {
   "display_name": "Python 3 (ipykernel)",
   "language": "python",
   "name": "python3"
  },
  "language_info": {
   "codemirror_mode": {
    "name": "ipython",
    "version": 3
   },
   "file_extension": ".py",
   "mimetype": "text/x-python",
   "name": "python",
   "nbconvert_exporter": "python",
   "pygments_lexer": "ipython3",
   "version": "3.9.7"
  }
 },
 "nbformat": 4,
 "nbformat_minor": 5
}
