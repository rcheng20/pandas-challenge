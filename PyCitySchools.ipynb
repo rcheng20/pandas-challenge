{
 "cells": [
  {
   "cell_type": "code",
   "execution_count": null,
   "id": "21576767-39fe-4c09-b51b-4ca1cae013f0",
   "metadata": {},
   "outputs": [],
   "source": [
    "# import all the modules required\n",
    "import csv\n",
    "import pandas as pd\n",
    "import numpy as np\n",
    "import matplotlib.pyplot as plt"
   ]
  },
  {
   "cell_type": "code",
   "execution_count": null,
   "id": "64777e82-e6fb-43d9-b2b1-4493b4c5e02c",
   "metadata": {},
   "outputs": [],
   "source": [
    "# reading the files\n",
    "schools_df = pd.read_csv(fr\"C:\\Users\\FinestRyeBread\\Downloads\\schools_complete.csv\")\n",
    "students_df = pd.read_csv(fr\"C:\\Users\\FinestRyeBread\\Downloads\\students_complete.csv\")"
   ]
  },
  {
   "cell_type": "code",
   "execution_count": null,
   "id": "dff50d1c-f97f-4c0f-8ec9-b751e01e9395",
   "metadata": {},
   "outputs": [],
   "source": [
    "# combining the 2 files\n",
    "school_data_complete = pd.merge(students_df, schools_df, how=\"left\", on=[\"school_name\", \"school_name\"])\n",
    "copy_school_data_complete = school_data_complete.copy()"
   ]
  },
  {
   "cell_type": "code",
   "execution_count": null,
   "id": "9f86b0a6-9bee-4d53-9d88-26ed00f0752c",
   "metadata": {},
   "outputs": [],
   "source": [
    "# District summary\n",
    "total_schools = school_data_complete[\"school_name\"].count()  # counts how many schools there are in the district\n",
    "total_students = school_data_complete[\"student_name\"].count()  # counts how many students there are in the district\n",
    "total_budget = school_data_complete[\"budget\"].sum()  # sums up the budget per school\n",
    "avg_math = school_data_complete[\"math_score\"].mean()  # finds the avg math score\n",
    "avg_reading = school_data_complete[\"reading_score\"].mean()  # finds the avg reading score"
   ]
  },
  {
   "cell_type": "code",
   "execution_count": null,
   "id": "5ca4cb83-4687-488c-a219-3f1048320178",
   "metadata": {},
   "outputs": [],
   "source": [
    "# passing is anything above a 60%\n",
    "math_passed = school_data_complete.loc[(school_data_complete[\"math_score\"] >= 60)]  # locates the entries that are greater than 60 in \"math_score\"\n",
    "reading_passed = school_data_complete.loc[(school_data_complete[\"reading_score\"] >= 60)]  # locates the entries that are greater than 60 in \"reading_score\"\n",
    "count_math_passed = math_passed[\"math_score\"].count()  # counts the numbers that were greater than 60\n",
    "count_reading_passed = reading_passed[\"reading_score\"].count()\n",
    "per_math_passed = (count_math_passed/total_students)*100  # calculates the percentage\n",
    "per_reading_passed = (count_reading_passed/total_students)*100"
   ]
  },
  {
   "cell_type": "code",
   "execution_count": null,
   "id": "ec1770de-06d4-4753-9d02-beaa2748325d",
   "metadata": {},
   "outputs": [],
   "source": [
    "# calculating overall passing %\n",
    "overall = (per_math_passed + per_reading_passed)/2  # averages out the passing rates"
   ]
  },
  {
   "cell_type": "code",
   "execution_count": null,
   "id": "b884fef8-95b4-41d5-95fc-1860780296a3",
   "metadata": {},
   "outputs": [],
   "source": [
    "# visualizes the data that was manipulated above\n",
    "district_summary = {\"Total Schools\" : total_schools,\n",
    "                   \"Total Students\" : total_students,\n",
    "                   \"Total Budget\" : total_budget,\n",
    "                   \"Average Math Score\" : avg_math,\n",
    "                   \"Average Reading Score\" : avg_reading,\n",
    "                    \"% Passing Math\" : per_math_passed,\n",
    "                   \"% Passing Reading\" : per_reading_passed,\n",
    "                   \"% Overall Passing\" : overall\n",
    "                  }\n",
    "district_summary_df = pd.DataFrame([district_summary])                                              \n",
    "                                   \n",
    "district_summary_df = district_summary_df[[\"Total Schools\",\n",
    "                   \"Total Students\",\"Total Budget\",\"Average Math Score\", \"Average Reading Score\",\n",
    "                   \"% Passing Math\", \"% Passing Reading\", \"% Overall Passing\" ]]\n",
    "district_summary_df"
   ]
  },
  {
   "cell_type": "code",
   "execution_count": null,
   "id": "7c25dc5b-31ee-488f-814f-b5669bd504d1",
   "metadata": {},
   "outputs": [],
   "source": [
    "# School summary\n",
    "copy_school_data_complete[\"Per Student Budget\"] = copy_school_data_complete[\"budget\"]/copy_school_data_complete[\"size\"]  # calculates the per student budget\n",
    "avg_math_reading = copy_school_data_complete.groupby([\"school_name\"])[\"reading_score\", \"math_score\"].mean().reset_index()  # average of the math and reading scores\n",
    "# combine the 2; outer merge includes everything\n",
    "copy_school_data_complete = copy_school_data_complete.merge(avg_math_reading, on='school_name', how=\"outer\")"
   ]
  },
  {
   "cell_type": "code",
   "execution_count": null,
   "id": "fa7c8082-d8e2-4240-8f6f-e5c9312d0d91",
   "metadata": {},
   "outputs": [],
   "source": [
    "# passing is anything above a 60%\n",
    "sum_math_pass = school_data_complete[school_data_complete[\"math_score\"] >= 60]  # % passing\n",
    "sum_reading_pass = school_data_complete[school_data_complete[\"reading_score\"] >= 60]\n",
    "count_math_pass = sum_math_pass.groupby([\"school_name\"])[\"math_score\"].count().reset_index()  # counts the number of students passing\n",
    "count_reading_pass = sum_reading_pass.groupby([\"school_name\"])[\"reading_score\"].count().reset_index()\n",
    "count_math_pass.rename_axis({\"math_score\" : \"Math Count\"}, axis=1, inplace=True)\n",
    "count_reading_pass.rename_axis({\"reading_score\" : \"Reading Count\"}, axis=1, inplace=True)\n",
    "pass_count = count_math_pass.merge(count_reading_pass, on=\"school_name\", how=\"inner\")"
   ]
  },
  {
   "cell_type": "code",
   "execution_count": null,
   "id": "f15531a5-d6ce-4f3f-9ef7-ccfdbb409827",
   "metadata": {},
   "outputs": [],
   "source": [
    "copy_school_data_complete = copy_school_data_complete(pass_count, on=\"school name\", how=\"outer\")  # merge outer to include everything"
   ]
  },
  {
   "cell_type": "code",
   "execution_count": null,
   "id": "ff88cd48-e83d-4f80-98d0-e724f5c83265",
   "metadata": {},
   "outputs": [],
   "source": [
    "# calculates the % passing math and reading\n",
    "copy_school_data_complete[\"% Passing Math\"] = (copy_school_data_complete[\"Math Count\"]/copy_school_data_complete[\"size\"])*100\n",
    "copy_school_data_complete[\"% Passing Reading\"] = (copy_school_data_complete[\"Reading Count\"]/copy_school_data_complete[\"size\"])*100\n",
    "# calculates overall passing %\n",
    "copy_school_data_complete[\"% Passing Overall\"] = (copy_school_data_complete[\"% Passing Math\"] + copy_school_data_complete[\"% Passing Reading\"])/2"
   ]
  },
  {
   "cell_type": "code",
   "execution_count": null,
   "id": "bf9b7305-8c89-4c5b-a4d4-9961b3a8326c",
   "metadata": {},
   "outputs": [],
   "source": [
    "copy_school_data_complete.rename_axis({\"reading_score\":\"Avg. Reading Score\",\n",
    "                             \"math_score\":\"Avg. Math Score\"}, axis=1, inplace=True)"
   ]
  },
  {
   "cell_type": "code",
   "execution_count": null,
   "id": "a7f9ea3e-6014-43f6-a556-3ef08e6e42d1",
   "metadata": {},
   "outputs": [],
   "source": [
    "copy_school_data_complete"
   ]
  },
  {
   "cell_type": "code",
   "execution_count": null,
   "id": "71f43363-ec5b-4f6e-9a73-80acbc869b7a",
   "metadata": {},
   "outputs": [],
   "source": [
    "# highlighting the top 5 performing schools\n",
    "top_performing = copy_school_data_complete.sort_values(by=[\"% Passing Overall\"], ascending=False).head(5)\n",
    "top_performing.head(5)"
   ]
  },
  {
   "cell_type": "code",
   "execution_count": null,
   "id": "f06c084c-b4fe-4050-bd2c-3df46ad09379",
   "metadata": {},
   "outputs": [],
   "source": [
    "# highlight the bottom 5 performing schools\n",
    "bot_performing = copy_school_data_complete.sort_values(by=[\"% Passing Overall\"]).head(5)\n",
    "bot_performing"
   ]
  },
  {
   "cell_type": "code",
   "execution_count": null,
   "id": "8d637b0b-115e-40c6-ba4b-55e352075742",
   "metadata": {},
   "outputs": [],
   "source": []
  }
 ],
 "metadata": {
  "kernelspec": {
   "display_name": "Python 3 (ipykernel)",
   "language": "python",
   "name": "python3"
  },
  "language_info": {
   "codemirror_mode": {
    "name": "ipython",
    "version": 3
   },
   "file_extension": ".py",
   "mimetype": "text/x-python",
   "name": "python",
   "nbconvert_exporter": "python",
   "pygments_lexer": "ipython3",
   "version": "3.9.7"
  }
 },
 "nbformat": 4,
 "nbformat_minor": 5
}
